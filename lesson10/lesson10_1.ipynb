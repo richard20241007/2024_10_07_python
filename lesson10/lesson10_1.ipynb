{
 "cells": [
  {
   "cell_type": "code",
   "execution_count": null,
   "metadata": {},
   "outputs": [],
   "source": [
    "import sqlite3\n",
    "from pprint import pprint\n",
    "conn = sqlite3.connect(\"AQI.db\")\n",
    "with conn:\n",
    "    cursor = conn.cursor()        \n",
    "    sql = '''\n",
    "    SELECT date,aqi,pm25\n",
    "    FROM records\n",
    "    WHERE sitename = '大城'; \n",
    "    '''\n",
    "    cursor.execute(sql)\n",
    "    data_list = []\n",
    "    for item in cursor.fetchall():\n",
    "        date = item[0]\n",
    "        aqi = item[1]\n",
    "        pm25 = item[2]\n",
    "        data_list.append({'date':date,'aqi':aqi,'pm25':pm25})\n",
    "\n",
    "pprint(data_list)"
   ]
  },
  {
   "cell_type": "code",
   "execution_count": null,
   "metadata": {},
   "outputs": [],
   "source": [
    "import pandas as pd\n",
    "df = pd.DataFrame(data_list)\n",
    "df['date'] = pd.to_datetime(df['date'])\n",
    "df1 = df.set_index('date')\n",
    "df1"
   ]
  },
  {
   "cell_type": "code",
   "execution_count": null,
   "metadata": {},
   "outputs": [],
   "source": [
    "axes = df1.plot()\n",
    "axes.get_figure()"
   ]
  }
 ],
 "metadata": {
  "kernelspec": {
   "display_name": "tvdi",
   "language": "python",
   "name": "python3"
  },
  "language_info": {
   "codemirror_mode": {
    "name": "ipython",
    "version": 3
   },
   "file_extension": ".py",
   "mimetype": "text/x-python",
   "name": "python",
   "nbconvert_exporter": "python",
   "pygments_lexer": "ipython3",
   "version": "3.11.10"
  }
 },
 "nbformat": 4,
 "nbformat_minor": 2
}

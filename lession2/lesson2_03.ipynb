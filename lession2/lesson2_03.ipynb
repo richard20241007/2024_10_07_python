{
 "cells": [
  {
   "cell_type": "markdown",
   "metadata": {},
   "source": [
    "###使用 Python 內建的 csv 模組讀取文件"
   ]
  },
  {
   "cell_type": "code",
   "execution_count": null,
   "metadata": {
    "vscode": {
     "languageId": "plaintext"
    }
   },
   "outputs": [],
   "source": [
    "import csv\n",
    "with open('student.csv',encoding='utf-8') as file:\n",
    "    csvReader = csv.reader(file)\n",
    "    print(type(csvReader))\n",
    "    for row in csvReader:\n",
    "        print(row)"
   ]
  }
 ],
 "metadata": {
  "language_info": {
   "name": "python"
  }
 },
 "nbformat": 4,
 "nbformat_minor": 2
}

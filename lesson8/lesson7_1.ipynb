{
 "cells": [
  {
   "cell_type": "code",
   "execution_count": 1,
   "metadata": {},
   "outputs": [],
   "source": [
    "import sqlite3\n",
    "conn = sqlite3.connect(\"AQI.db\")\n",
    "with conn:\n",
    "    sql = '''\n",
    "    CREATE TABLE IF NOT EXISTS records (\n",
    "        id INTEGER NOT NULL PRIMARY KEY AUTOINCREMENT,\n",
    "        sitename TEXT NOT NULL,\n",
    "        county TEXT,\n",
    "        aqi INTEGER,\n",
    "        status TEXT,\n",
    "        pm25 NUMERIC,\n",
    "        date TEXT,\n",
    "        lat NUMERIC,\n",
    "        lon NUMERIC,\n",
    "        UNIQUE(sitename,date)\n",
    "    );\n",
    "    '''\n",
    "    cursor = conn.cursor()\n",
    "    cursor.execute(sql)"
   ]
  },
  {
   "cell_type": "code",
   "execution_count": 2,
   "metadata": {},
   "outputs": [
    {
     "name": "stdout",
     "output_type": "stream",
     "text": [
      "['大里', '士林', '中壢', '西屯', '花蓮', '苗栗', '林園', '富貴角', '小港', '斗六', '屏東（琉球）', '桃園', '湖口', '馬祖', '大園', '彰化', '臺南（麻豆）', '金門', '嘉義', '三義', '新店', '宜蘭（頭城）', '安南', '臺東', '古亭', '前鎮', '前金', '二林', '復興', '仁武', '沙鹿', '美濃', '林口', '板橋', '大寮', '菜寮', '新北(樹林)', '忠明', '新竹', '宜蘭', '關山', '大同', '崙背', '恆春', '龍潭', '朴子', '中山', '臺西', '豐原', '陽明', '頭份', '冬山', '潮州', '左營', '竹山', '馬公', '臺南', '萬華', '屏東(枋山)', '彰化（員林）', '汐止', '屏東', '線西', '永和', '楠梓', '麥寮', '平鎮', '高雄（湖內）', '竹東', '南投', '松山', '土城', '新港', '觀音', '大城', '鳳山', '萬里', '橋頭', '善化', '埔里', '新營', '基隆', '三重', '新莊', '淡水']\n"
     ]
    }
   ],
   "source": [
    "import requests\n",
    "\n",
    "url = 'https://data.moenv.gov.tw/api/v2/aqx_p_488?api_key=e8dd42e6-9b8b-43f8-991e-b3dee723a52d&limit=1000&sort=datacreationdate%20desc&format=JSON'\n",
    "try:\n",
    "    response = requests.get(url)\n",
    "    response.raise_for_status()\n",
    "    data = response.json()\n",
    "except Exception as e:\n",
    "    print(e)\n",
    "else:\n",
    "    sitenames = set()\n",
    "    for items in data['records']:\n",
    "        sitenames.add(items['sitename'])\n",
    "\n",
    "    sitenames = list(sitenames)\n",
    "print(sitenames)"
   ]
  },
  {
   "cell_type": "code",
   "execution_count": 3,
   "metadata": {},
   "outputs": [
    {
     "data": {
      "text/plain": [
       "[['2024-10-28 09:00', '屏東縣', 17, 6.2, '良好', 22.260899, 120.651472]]"
      ]
     },
     "execution_count": 3,
     "metadata": {},
     "output_type": "execute_result"
    }
   ],
   "source": [
    "import datasource\n",
    "datasource.get_selected_data(sitename='屏東(枋山)')"
   ]
  },
  {
   "cell_type": "code",
   "execution_count": 4,
   "metadata": {},
   "outputs": [],
   "source": [
    "import sqlite3\n",
    "conn = sqlite3.connect(\"AQI.db\")\n",
    "with conn:\n",
    "    sql = '''INSERT OR IGNORE INTO records(sitename,county,aqi,status,pm25,date,lat,lon)\n",
    "    values ('屏東(枋山)','屏東縣', 34, '良好',18,'2024-11-04 10:00', 22.260899, 120.651472);\n",
    "    '''\n",
    "    cursor = conn.cursor()\n",
    "    cursor.execute(sql)"
   ]
  },
  {
   "cell_type": "code",
   "execution_count": 5,
   "metadata": {},
   "outputs": [],
   "source": [
    "import sqlite3\n",
    "conn = sqlite3.connect(\"AQI.db\")\n",
    "url = 'https://data.moenv.gov.tw/api/v2/aqx_p_488?api_key=e8dd42e6-9b8b-43f8-991e-b3dee723a52d&limit=1000&sort=datacreationdate%20desc&format=JSON'\n",
    "try:\n",
    "    response = requests.get(url)\n",
    "    response.raise_for_status()\n",
    "    data = response.json()\n",
    "except Exception as e:\n",
    "    print(e)\n",
    "else:\n",
    "    sitenames = set()\n",
    "    with conn:\n",
    "        cursor = conn.cursor()\n",
    "        for items in data['records']:\n",
    "            sitename = items['sitename']\n",
    "            county = items['county']\n",
    "            aqi = int(items['aqi']) if items['aqi'] != '' else 0\n",
    "            status = items['status']\n",
    "            pm25 = float(items['pm2.5']) if items['pm2.5'] != '' else 0.0\n",
    "            date = items['datacreationdate']\n",
    "            lon = float(items['longitude']\n",
    "                        ) if items['longitude'] != '' else 0.0\n",
    "            lat = float(items['latitude']) if items['latitude'] != '' else 0.0\n",
    "            sql = '''INSERT OR IGNORE INTO records(sitename,county,aqi,status,pm25,date,lat,lon)\n",
    "                    values (?,?, ?, ?,?,?,?,?);\n",
    "            '''\n",
    "            cursor.execute(sql, (sitename, county, aqi,\n",
    "                           status, pm25, date, lat, lon))"
   ]
  },
  {
   "cell_type": "code",
   "execution_count": 6,
   "metadata": {},
   "outputs": [
    {
     "name": "stdout",
     "output_type": "stream",
     "text": [
      "['屏東(枋山)', '宜蘭（頭城）', '新北(樹林)', '屏東（琉球）', '臺南（麻豆）', '高雄（湖內）', '彰化（員林）', '大城', '富貴角', '麥寮', '關山', '馬公', '金門', '馬祖', '埔里', '復興', '永和', '竹山', '中壢', '三重', '冬山', '宜蘭', '陽明', '花蓮', '臺東', '恆春', '潮州', '屏東', '小港', '前鎮', '前金', '左營', '楠梓', '林園', '大寮', '鳳山', '仁武', '橋頭', '美濃', '臺南', '安南', '善化', '新營', '嘉義', '臺西', '朴子', '新港', '崙背', '斗六', '南投', '二林', '線西', '彰化', '西屯', '忠明', '大里', '沙鹿', '豐原', '三義', '苗栗', '頭份', '新竹', '竹東', '湖口', '龍潭', '平鎮', '觀音', '大園', '桃園', '大同', '松山', '古亭', '萬華', '中山', '士林', '淡水', '林口', '菜寮', '新莊', '板橋', '土城', '新店', '萬里', '汐止', '基隆']\n"
     ]
    }
   ],
   "source": [
    "conn = sqlite3.connect(\"AQI.db\")\n",
    "with conn:\n",
    "    cursor = conn.cursor()\n",
    "    sql = '''\n",
    "    SELECT DISTINCT sitename\n",
    "    FROM records\n",
    "    '''\n",
    "    cursor.execute(sql)\n",
    "    sitenames = []\n",
    "\n",
    "    for items in cursor.fetchall():\n",
    "        sitenames.append(items[0])\n",
    "\n",
    "    print(sitenames)"
   ]
  },
  {
   "cell_type": "code",
   "execution_count": 7,
   "metadata": {},
   "outputs": [
    {
     "name": "stdout",
     "output_type": "stream",
     "text": [
      "[['2024-11-04 15:00', '新北市', 46, 0, '良好', 25.29681695, 121.53656894], ['2024-11-04 15:00', '新北市', 46, 0, '良好', 25.29681695, 121.53656894], ['2024-11-04 14:00', '新北市', 47, 0, '良好', 25.29681695, 121.53656894], ['2024-11-04 14:00', '新北市', 0, 0, '', 25.29681695, 121.53656894], ['2024-11-04 13:00', '新北市', 47, 8, '良好', 25.29681695, 121.53656894], ['2024-11-04 13:00', '新北市', 47, 8, '良好', 25.29681695, 121.53656894], ['2024-11-04 12:00', '新北市', 48, 0, '良好', 25.29681695, 121.53656894], ['2024-11-04 12:00', '新北市', 48, 0, '良好', 25.29681695, 121.53656894], ['2024-11-04 11:00', '新北市', 48, 0, '良好', 25.29681695, 121.53656894], ['2024-11-04 11:00', '新北市', 48, 0, '良好', 25.29681695, 121.53656894], ['2024-11-04 10:00', '新北市', 48, 13, '良好', 25.29681695, 121.53656894], ['2024-11-04 10:00', '新北市', 48, 13, '良好', 25.29681695, 121.53656894]]\n"
     ]
    }
   ],
   "source": [
    "conn = sqlite3.connect(\"AQI.db\")\n",
    "with conn:\n",
    "    cursor = conn.cursor()\n",
    "    sql = '''\n",
    "    SELECT date,county,aqi,pm25,status,lat,lon\n",
    "    FROM records\n",
    "    WHERE sitename=?\n",
    "    ORDER BY date DESC;\n",
    "    '''\n",
    "    cursor.execute(sql, ('富貴角',))\n",
    "    sitename_list = [list(item) for item in cursor.fetchall()]\n",
    "    print(sitename_list)"
   ]
  }
 ],
 "metadata": {
  "kernelspec": {
   "display_name": "tvdi",
   "language": "python",
   "name": "python3"
  },
  "language_info": {
   "codemirror_mode": {
    "name": "ipython",
    "version": 3
   },
   "file_extension": ".py",
   "mimetype": "text/x-python",
   "name": "python",
   "nbconvert_exporter": "python",
   "pygments_lexer": "ipython3",
   "version": "3.11.10"
  }
 },
 "nbformat": 4,
 "nbformat_minor": 2
}

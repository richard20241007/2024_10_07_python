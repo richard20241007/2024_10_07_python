{
 "cells": [
  {
   "cell_type": "code",
   "execution_count": 5,
   "metadata": {},
   "outputs": [],
   "source": [
    "class Person(object):\n",
    "    # 自訂的init,建立內建的attribute\n",
    "    def __init__(self, name: str, age: int):  # type hint\n",
    "        self.name = name  # attribute\n",
    "        self.age = age  # attribute\n",
    "\n",
    "    # 自訂實體被print()時的輸出\n",
    "    def __repr__(self):\n",
    "        return f'我的名字是:{self.name}\\n我的age是{self.age}'\n",
    "        "
   ]
  },
  {
   "cell_type": "code",
   "execution_count": 7,
   "metadata": {},
   "outputs": [
    {
     "name": "stdout",
     "output_type": "stream",
     "text": [
      "我的名字是:Richard\n",
      "我的age是18\n",
      "====================\n",
      "我的名字是:李啟民\n",
      "我的age是28\n"
     ]
    }
   ],
   "source": [
    "# 初始化,initial\n",
    "p1 = Person(name=\"Richard\", age=18)\n",
    "\n",
    "print(p1)\n",
    "\n",
    "print(\"====================\")\n",
    "\n",
    "p2 = Person(name=\"李啟民\", age=28)\n",
    "\n",
    "print(p2)"
   ]
  },
  {
   "cell_type": "code",
   "execution_count": 8,
   "metadata": {},
   "outputs": [],
   "source": [
    "class Person(object):\n",
    "    # 自訂的init,建立內建的attribute\n",
    "    def __init__(self, name: str, age: int):  # type hint\n",
    "        self.__name = name  # attribute\n",
    "        self.age = age  # attribute\n",
    "\n",
    "    # 自訂實體被print()時的輸出\n",
    "    def __repr__(self) -> str:\n",
    "        return f'我的名字是:{self.name}\\n我的age是{self.age}'\n",
    "\n",
    "    @property\n",
    "    def name(self) -> str:\n",
    "        return self.__name\n",
    "\n",
    "    @name.setter\n",
    "    def name(self, n):\n",
    "        print(f\"不可以改名為{n}\")"
   ]
  },
  {
   "cell_type": "code",
   "execution_count": 13,
   "metadata": {},
   "outputs": [
    {
     "name": "stdout",
     "output_type": "stream",
     "text": [
      "我的名字是:Richard\n",
      "我的age是18\n",
      "不可以改名為adadaddddd\n",
      "====================+++++++++++++\n",
      "我的名字是:李啟民\n",
      "我的age是28\n"
     ]
    }
   ],
   "source": [
    "# 初始化,initial\n",
    "p1 = Person(name=\"Richard\", age=18)\n",
    "\n",
    "print(p1)\n",
    "p1.name = \"adadaddddd\"\n",
    "\n",
    "print(\"====================+++++++++++++\")\n",
    "\n",
    "p2 = Person(name=\"李啟民\", age=28)\n",
    "print(p2)"
   ]
  },
  {
   "cell_type": "code",
   "execution_count": 14,
   "metadata": {},
   "outputs": [],
   "source": [
    "class Person(object):\n",
    "    # 自訂的init,建立內建的attribute\n",
    "    def __init__(self, name: str, age: int):  # type hint\n",
    "        self.__name = name  # private attribute\n",
    "        self.__age = age  # private attribute\n",
    "\n",
    "    # 自訂實體被print()時的輸出\n",
    "    def __repr__(self) -> str:\n",
    "        return f'我的名字是:{self.name}\\n我的age是{self.age}'\n",
    "\n",
    "    @property\n",
    "    def name(self) -> str:\n",
    "        return self.__name\n",
    "\n",
    "    @name.setter\n",
    "    def name(self, n):\n",
    "        print(f\"不可以改名為{n}\")\n",
    "\n",
    "    @property\n",
    "    def age(self) -> int:  # getter\n",
    "        return self.__age\n",
    "\n",
    "    @age.setter\n",
    "    def age(self, value):  # setter\n",
    "        if value > 100 or value < 0:\n",
    "            print(\"不合法的值\")\n",
    "        else:\n",
    "            self.__age = value"
   ]
  },
  {
   "cell_type": "code",
   "execution_count": 17,
   "metadata": {},
   "outputs": [
    {
     "name": "stdout",
     "output_type": "stream",
     "text": [
      "不可以改名為abdadadc\n",
      "不合法的值\n",
      "Richard\n",
      "38\n"
     ]
    }
   ],
   "source": [
    "# 初始化,initial\n",
    "p1 = Person(name=\"Richard\", age=28)\n",
    "p1.name = \"abdadadc\"\n",
    "p1.age = 200\n",
    "p1.age = 38\n",
    "print(p1.name)\n",
    "print(p1.age)"
   ]
  }
 ],
 "metadata": {
  "kernelspec": {
   "display_name": "tvdi",
   "language": "python",
   "name": "python3"
  },
  "language_info": {
   "codemirror_mode": {
    "name": "ipython",
    "version": 3
   },
   "file_extension": ".py",
   "mimetype": "text/x-python",
   "name": "python",
   "nbconvert_exporter": "python",
   "pygments_lexer": "ipython3",
   "version": "3.11.10"
  }
 },
 "nbformat": 4,
 "nbformat_minor": 2
}
